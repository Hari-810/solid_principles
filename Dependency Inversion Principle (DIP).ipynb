{
 "cells": [
  {
   "cell_type": "markdown",
   "metadata": {},
   "source": [
    "# Dependency Inversion Principle (DIP):"
   ]
  },
  {
   "cell_type": "markdown",
   "metadata": {},
   "source": [
    "## Definition"
   ]
  },
  {
   "cell_type": "markdown",
   "metadata": {},
   "source": [
    "High-level modules should not depend on low-level modules. Both should depend on abstractions. Additionally, abstractions should not depend on details. Details should depend on abstractions."
   ]
  },
  {
   "cell_type": "markdown",
   "metadata": {},
   "source": [
    "This principle aims to reduce the dependency on concrete implementations and encourages the use of interfaces or abstract classes to decouple high-level and low-level modules. It helps in creating more flexible and testable code."
   ]
  },
  {
   "cell_type": "markdown",
   "metadata": {},
   "source": [
    "## Examples"
   ]
  },
  {
   "cell_type": "code",
   "execution_count": null,
   "metadata": {},
   "outputs": [],
   "source": [
    "# Low-level modules\n",
    "class EmailService:\n",
    "    def send_email(self, to_address, message):\n",
    "        print(f\"Sending email to {to_address}: {message}\")\n",
    "\n",
    "class SMSService:\n",
    "    def send_sms(self, phone_number, message):\n",
    "        print(f\"Sending SMS to {phone_number}: {message}\")\n",
    "\n",
    "# High-level module directly depends on low-level modules\n",
    "class MessagingService:\n",
    "    def __init__(self):\n",
    "        self.email_service = EmailService()\n",
    "        self.sms_service = SMSService()\n",
    "\n",
    "    def send_email_message(self, recipient, message):\n",
    "        self.email_service.send_email(recipient, message)\n",
    "\n",
    "    def send_sms_message(self, phone_number, message):\n",
    "        self.sms_service.send_sms(phone_number, message)\n",
    "\n",
    "# Usage\n",
    "messaging_service = MessagingService()\n",
    "messaging_service.send_email_message(\"example@example.com\", \"Hello, via email!\")\n",
    "messaging_service.send_sms_message(\"+123456789\", \"Hello, via SMS!\")\n"
   ]
  },
  {
   "cell_type": "markdown",
   "metadata": {},
   "source": [
    "Issues Without DIP\n",
    "\n",
    "1. High Coupling:\n",
    "\n",
    "    - Problem: High-level modules directly depend on specific implementations of low-level modules.\n",
    "\n",
    "    - Consequence: Changes in low-level modules (e.g., changing how emails are sent) can force modifications in high-level modules (MessagingService). This violates the principle of separating concerns and can lead to a ripple effect of changes across the codebase.\n",
    "\n",
    "2. Difficulty in Testing:\n",
    "\n",
    "    - Problem: Testing high-level modules (MessagingService) becomes challenging without isolating dependencies.\n",
    "  \n",
    "    - Consequence: Tests may need to integrate with real implementations of low-level modules (EmailService, SMSService), making tests more complex, slower, and harder to maintain. This can hinder effective unit testing and increase dependency on external systems.\n",
    "\n",
    "3. Reduced Flexibility and Reusability:\n",
    "\n",
    "    - Problem: Code becomes less flexible in adapting to changes or adding new functionalities.\n",
    "\n",
    "    - Consequence: Adding a new messaging channel or modifying existing ones requires directly modifying high-level modules. This violates the Open/Closed Principle (OCP), which states that software entities should be open for extension but closed for modification.\n",
    "\n",
    "4. Maintenance Challenges:\n",
    "\n",
    "    - Problem: With tightly coupled code, maintaining and debugging become more difficult.\n",
    "\n",
    "    - Consequence: Finding and fixing bugs, as well as making enhancements or changes, becomes more time-consuming and error-prone due to the interdependencies between modules.\n",
    "\n",
    "5. Scalability Issues:\n",
    "\n",
    "    - Problem: Scaling the application becomes problematic as the codebase grows.\n",
    "\n",
    "    - Consequence: As more features are added or the system evolves, managing dependencies manually becomes increasingly complex. This can lead to brittle code that is difficult to refactor or extend without unintended side effects."
   ]
  },
  {
   "cell_type": "markdown",
   "metadata": {},
   "source": [
    "## Solution"
   ]
  },
  {
   "cell_type": "markdown",
   "metadata": {},
   "source": [
    "Refactor the example to introduce abstractions and ensure that high-level modules depend on abstractions rather than concrete implementations of low-level modules."
   ]
  },
  {
   "cell_type": "code",
   "execution_count": null,
   "metadata": {},
   "outputs": [],
   "source": [
    "# Abstraction for message sending\n",
    "class MessageSender:\n",
    "    def send(self, recipient, message):\n",
    "        pass\n",
    "\n",
    "# Concrete implementations\n",
    "class EmailService(MessageSender):\n",
    "    def send(self, recipient, message):\n",
    "        print(f\"Sending email to {recipient}: {message}\")\n",
    "\n",
    "class SMSService(MessageSender):\n",
    "    def send(self, recipient, message):\n",
    "        print(f\"Sending SMS to {recipient}: {message}\")\n",
    "\n",
    "# High-level module depends on abstraction\n",
    "class MessagingService:\n",
    "    def __init__(self, sender: MessageSender):\n",
    "        self.sender = sender\n",
    "\n",
    "    def send_message(self, recipient, message):\n",
    "        self.sender.send(recipient, message)\n",
    "\n",
    "# Usage\n",
    "email_service = EmailService()\n",
    "sms_service = SMSService()\n",
    "\n",
    "messaging_service = MessagingService(email_service)\n",
    "messaging_service.send_message(\"example@example.com\", \"Hello, via email!\")\n",
    "\n",
    "messaging_service = MessagingService(sms_service)\n",
    "messaging_service.send_message(\"+123456789\", \"Hello, via SMS!\")\n"
   ]
  },
  {
   "cell_type": "markdown",
   "metadata": {},
   "source": [
    "Explanation:\n",
    "\n",
    "1. Changes Made:\n",
    "    - Abstraction (MessageSender):\n",
    "\n",
    "    MessageSender defines a common interface (send) that EmailService and SMSService implement. This abstraction ensures that both EmailService and SMSService adhere to a contract of how messages are sent.\n",
    "\n",
    "2. Dependency Injection:\n",
    "\n",
    "    MessagingService now accepts a MessageSender object (sender) in its constructor. This adheres to the Dependency Injection principle, where dependencies are injected into a class rather than created inside it.\n",
    "    This approach allows MessagingService to work with any implementation of MessageSender without knowing the specific details of how messages are sent.\n",
    "\n",
    "3. Usage:\n",
    "\n",
    "    EmailService and SMSService instances are created separately.\n",
    "    MessagingService is instantiated with either email_service or sms_service, demonstrating flexibility in using different implementations of MessageSender.\n",
    "\n",
    "Benefits of DIP:\n",
    "\n",
    "1. Reduced Coupling: MessagingService is no longer coupled to specific implementations (EmailService or SMSService). It depends only on the MessageSender abstraction, allowing easier maintenance and future changes.\n",
    "\n",
    "2. Improved Testability: MessagingService can be easily tested using mock implementations of MessageSender, facilitating unit testing without relying on actual email or SMS services.\n",
    "\n",
    "3.  Enhanced Flexibility: Adding new messaging channels (e.g., push notifications) involves creating a new class implementing MessageSender without modifying existing code in MessagingService.\n",
    "\n"
   ]
  },
  {
   "cell_type": "markdown",
   "metadata": {},
   "source": [
    "By applying the Dependency Inversion Principle (DIP), we've improved the design of the messaging system. MessagingService now depends on abstractions (MessageSender) rather than concrete implementations, promoting modular, flexible, and maintainable code. This approach aligns with best practices in software design, fostering scalability and easier adaptation to changes in requirements."
   ]
  },
  {
   "cell_type": "markdown",
   "metadata": {},
   "source": [
    "# Example 02"
   ]
  },
  {
   "cell_type": "markdown",
   "metadata": {},
   "source": [
    "Without DIP (Violation of DIP)"
   ]
  },
  {
   "cell_type": "code",
   "execution_count": null,
   "metadata": {},
   "outputs": [],
   "source": [
    "class EmailService:\n",
    "    def send_email(self, message):\n",
    "        # Logic to send email\n",
    "\n",
    "class NotificationService:\n",
    "    def send_notification(self, message):\n",
    "        # Logic to send push notification\n",
    "\n",
    "class MessagingApp:\n",
    "    def __init__(self):\n",
    "        self.email_service = EmailService()\n",
    "        self.notification_service = NotificationService()\n",
    "\n",
    "    def send_message(self, message, method):\n",
    "        if method == 'email':\n",
    "            self.email_service.send_email(message)\n",
    "        elif method == 'notification':\n",
    "            self.notification_service.send_notification(message)\n"
   ]
  },
  {
   "cell_type": "markdown",
   "metadata": {},
   "source": [
    "In this example, MessagingApp directly depends on concrete implementations (EmailService and NotificationService). If we later want to add more messaging methods (like SMS), MessagingApp would need to be modified, violating the Open-Closed Principle."
   ]
  },
  {
   "cell_type": "markdown",
   "metadata": {},
   "source": [
    "# SOlution 02"
   ]
  },
  {
   "cell_type": "code",
   "execution_count": null,
   "metadata": {},
   "outputs": [],
   "source": [
    "from abc import ABC, abstractmethod\n",
    "\n",
    "class MessageService(ABC):\n",
    "    @abstractmethod\n",
    "    def send_message(self, message):\n",
    "        pass\n",
    "\n",
    "class EmailService(MessageService):\n",
    "    def send_message(self, message):\n",
    "        # Logic to send email\n",
    "        pass\n",
    "\n",
    "class NotificationService(MessageService):\n",
    "    def send_message(self, message):\n",
    "        # Logic to send push notification\n",
    "        pass\n",
    "\n",
    "class MessagingApp:\n",
    "    def __init__(self, service: MessageService):\n",
    "        self.service = service\n",
    "\n",
    "    def send_message(self, message):\n",
    "        self.service.send_message(message)\n"
   ]
  },
  {
   "cell_type": "markdown",
   "metadata": {},
   "source": [
    "In this improved design:\n",
    "\n",
    " - MessageService is an abstraction (interface in Python's case), defining the contract for sending messages.\n",
    " \n",
    " - EmailService and NotificationService implement MessageService, but MessagingApp depends only on MessageService.\n",
    " \n",
    " - This allows MessagingApp to be flexible; it can now work with any class that implements MessageService (e.g., EmailService, NotificationService, SMSService) without modification.\n",
    "\n",
    "\n",
    "By applying the Dependency Inversion Principle, we've decoupled high-level modules (MessagingApp) from low-level implementation details (EmailService, NotificationService), promoting flexibility, extensibility, and easier maintenance in our design."
   ]
  },
  {
   "cell_type": "markdown",
   "metadata": {},
   "source": []
  }
 ],
 "metadata": {
  "language_info": {
   "name": "python"
  }
 },
 "nbformat": 4,
 "nbformat_minor": 2
}
