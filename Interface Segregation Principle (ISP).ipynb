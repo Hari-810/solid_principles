{
 "cells": [
  {
   "cell_type": "markdown",
   "metadata": {},
   "source": [
    "# Interface Segregation Principle (ISP)"
   ]
  },
  {
   "cell_type": "markdown",
   "metadata": {},
   "source": [
    "## Definition"
   ]
  },
  {
   "cell_type": "markdown",
   "metadata": {},
   "source": [
    "A client should not be forced to depend on interfaces it does not use."
   ]
  },
  {
   "cell_type": "markdown",
   "metadata": {},
   "source": [
    "This principle promotes the creation of smaller, more specific interfaces rather than large, general-purpose ones. By doing so, it ensures that implementing classes only need to be concerned with methods that are of interest to them\n",
    "\n",
    "The Interface Segregation Principle (ISP) states that clients should not be forced to depend on interfaces they do not use. In simpler terms, it suggests that classes should not be forced to implement interfaces they don't need. Instead of having a large, monolithic interface, it's better to have smaller, more specific interfaces that are tailored to the needs of the clients."
   ]
  },
  {
   "cell_type": "markdown",
   "metadata": {},
   "source": [
    "## Example"
   ]
  },
  {
   "cell_type": "code",
   "execution_count": null,
   "metadata": {},
   "outputs": [],
   "source": [
    "from abc import ABC, abstractmethod\n",
    "\n",
    "# Monolithic interface violating ISP\n",
    "\n",
    "class Machine(ABC):\n",
    "    @abstractmethod\n",
    "    def print_document(self, document):\n",
    "        pass\n",
    "    \n",
    "    @abstractmethod\n",
    "    def scan_document(self):\n",
    "        pass\n",
    "    \n",
    "    @abstractmethod\n",
    "    def fax_document(self, document):\n",
    "        pass\n",
    "\n",
    "# Class implementing the monolithic interface\n",
    "\n",
    "class AllInOneMachine(Machine):\n",
    "    def print_document(self, document):\n",
    "        print(f\"Printing document: {document}\")\n",
    "    \n",
    "    def scan_document(self):\n",
    "        print(\"Scanning document\")\n",
    "    \n",
    "    def fax_document(self, document):\n",
    "        print(f\"Faxing document: {document}\")\n",
    "\n",
    "# Another class implementing the monolithic interface\n",
    "\n",
    "class Printer(Machine):\n",
    "    def print_document(self, document):\n",
    "        print(f\"Printing document: {document}\")\n",
    "    \n",
    "    def scan_document(self):\n",
    "        raise NotImplementedError(\"Printer cannot scan documents\")\n",
    "    \n",
    "    def fax_document(self, document):\n",
    "        raise NotImplementedError(\"Printer cannot fax documents\")\n",
    "\n",
    "# Usage of classes violating ISP\n",
    "\n",
    "all_in_one_machine = AllInOneMachine()\n",
    "all_in_one_machine.print_document(\"Some Document\")\n",
    "all_in_one_machine.scan_document()\n",
    "all_in_one_machine.fax_document(\"Important Document\")\n",
    "\n",
    "printer = Printer()\n",
    "printer.print_document(\"Another Document\")\n",
    "printer.scan_document()  # This will raise NotImplementedError\n",
    "printer.fax_document(\"Test Document\")  # This will raise NotImplementedError\n"
   ]
  },
  {
   "cell_type": "markdown",
   "metadata": {},
   "source": [
    "Issues:\n",
    "\n",
    "1. Interface Overload:\n",
    "\n",
    "    The Machine interface is monolithic, combining methods for printing, scanning, and faxing documents into a single interface.\n",
    "This forces every class that implements Machine to provide implementations for all methods, regardless of whether they need them or not.\n",
    "\n",
    "2. Unnecessary Implementations:\n",
    "\n",
    "    The Printer class, which logically should only print documents, is forced to implement methods like scan_document() and fax_document() from the Machine interface.\n",
    "    \n",
    "    This leads to unnecessary code in Printer (NotImplementedError implementations) and potential confusion for developers trying to understand the class's intended functionality.\n",
    "\n",
    "3. Violation of Single Responsibility Principle (SRP):\n",
    "\n",
    "    Classes like Printer should ideally focus only on printing documents and not be burdened with implementing methods for scanning or faxing.\n",
    "    Violating SRP can lead to classes that are harder to maintain, understand, and extend.\n",
    "\n",
    "4. Potential for Bugs and Errors:\n",
    "\n",
    "    If a developer forgets to implement a required method (like scan_document() or fax_document() in AllInOneMachine), it can lead to runtime errors or unexpected behavior when the method is called.\n",
    "\n",
    "Consequences:\n",
    "\n",
    "1. Reduced Code Clarity and Readability:\n",
    "\n",
    "    Developers might find it challenging to understand the purpose of each class (Printer, AllInOneMachine) if they are forced to implement methods they don't need.\n",
    "\n",
    "2. Increased Maintenance Complexity:\n",
    "\n",
    "    Over time, as requirements change or new features are added, maintaining a monolithic interface can become cumbersome.\n",
    "    Changes in one part of the interface (Machine) might require modifications across multiple classes (Printer, AllInOneMachine), increasing the risk of introducing bugs.\n",
    "\n",
    "3. Difficulty in Extension and Adaptation:\n",
    "\n",
    "    Adding new types of machines (e.g., a scanner-only device) would require modifying the existing monolithic interface (Machine), potentially affecting all classes that implement it.\n",
    "    This can hinder the flexibility and scalability of the codebase.\n",
    "\n",
    "\n",
    "Violating the Interface Segregation Principle by using a monolithic interface (Machine) with unrelated methods (print_document, scan_document, fax_document) forces unnecessary dependencies and responsibilities on classes (Printer, AllInOneMachine) that may not need them. This approach leads to code that is harder to understand, maintain, and extend, ultimately increasing the likelihood of introducing errors and reducing overall code quality."
   ]
  },
  {
   "cell_type": "markdown",
   "metadata": {},
   "source": [
    "## Solution"
   ]
  },
  {
   "cell_type": "markdown",
   "metadata": {},
   "source": [
    " we'll create separate interfaces for printing, scanning, and faxing, and implement them in classes accordingly."
   ]
  },
  {
   "cell_type": "code",
   "execution_count": null,
   "metadata": {},
   "outputs": [],
   "source": [
    "# Interfaces (Following ISP):\n",
    "\n",
    "from abc import ABC, abstractmethod\n",
    "\n",
    "# Separate interfaces based on functionality\n",
    "\n",
    "class Printer(ABC):\n",
    "    @abstractmethod\n",
    "    def print_document(self, document):\n",
    "        pass\n",
    "\n",
    "class Scanner(ABC):\n",
    "    @abstractmethod\n",
    "    def scan_document(self):\n",
    "        pass\n",
    "\n",
    "class Fax(ABC):\n",
    "    @abstractmethod\n",
    "    def fax_document(self, document):\n",
    "        pass\n"
   ]
  },
  {
   "cell_type": "code",
   "execution_count": null,
   "metadata": {},
   "outputs": [],
   "source": [
    "# Classes Implementing Interfaces (Following ISP)\n",
    "\n",
    "# Classes implementing specific interfaces they need\n",
    "\n",
    "class SimplePrinter(Printer):   \n",
    "    def print_document(self, document):\n",
    "        print(f\"Printing document: {document}\")\n",
    "\n",
    "class AllInOneMachine(Printer, Scanner, Fax):\n",
    "    def print_document(self, document):\n",
    "        print(f\"Printing document: {document}\")\n",
    "    \n",
    "    def scan_document(self):\n",
    "        print(\"Scanning document\")\n",
    "    \n",
    "    def fax_document(self, document):\n",
    "        print(f\"Faxing document: {document}\")\n",
    "\n",
    "class Photocopier(Printer, Scanner):\n",
    "    def print_document(self, document):\n",
    "        print(f\"Printing document: {document}\")\n",
    "    \n",
    "    def scan_document(self):\n",
    "        print(\"Scanning document\")\n"
   ]
  },
  {
   "cell_type": "code",
   "execution_count": null,
   "metadata": {},
   "outputs": [],
   "source": [
    "# Usage of the classes\n",
    "\n",
    "printer = SimplePrinter()\n",
    "printer.print_document(\"Sample Document\")\n",
    "\n",
    "all_in_one = AllInOneMachine()\n",
    "all_in_one.print_document(\"Important Document\")\n",
    "all_in_one.scan_document()\n",
    "all_in_one.fax_document(\"Fax Document\")\n",
    "\n",
    "copier = Photocopier()\n",
    "copier.print_document(\"Copied Document\")\n",
    "copier.scan_document()\n"
   ]
  },
  {
   "cell_type": "markdown",
   "metadata": {},
   "source": [
    "In this redesigned example adhering to ISP:\n",
    "\n",
    "1. We have segregated the Printer, Scanner, and Fax interfaces based on specific functionalities.\n",
    "\n",
    "2. Each class (SimplePrinter, AllInOneMachine, Photocopier) implements only the interfaces it needs.\n",
    "\n",
    "3. SimplePrinter implements Printer for printing.\n",
    "\n",
    "4. AllInOneMachine implements Printer, Scanner, and Fax for comprehensive functionality of an all-in-one machine.\n",
    "\n",
    "5. Photocopier implements Printer and Scanner for copying documents."
   ]
  },
  {
   "cell_type": "markdown",
   "metadata": {},
   "source": [
    "Benefits of ISP Adherence:\n",
    "\n",
    "1. Focused Interfaces: Each interface (Printer, Scanner, Fax) is focused on a specific responsibility, making the code easier to understand and maintain.\n",
    "\n",
    "2. Reduced Dependencies: Classes only depend on the interfaces they need, reducing unnecessary method implementations and potential errors.\n",
    "\n",
    "3. Improved Flexibility: Adding new types of devices (e.g., a scanner-only device) or modifying existing functionality (e.g., adding a new type of printing method) can be done without affecting unrelated classes or interfaces.\n",
    "\n",
    "4. Enhanced Code Reusability: Interfaces can be reused across different classes or projects, promoting modular design and easier integration."
   ]
  },
  {
   "cell_type": "markdown",
   "metadata": {},
   "source": []
  }
 ],
 "metadata": {
  "language_info": {
   "name": "python"
  }
 },
 "nbformat": 4,
 "nbformat_minor": 2
}
