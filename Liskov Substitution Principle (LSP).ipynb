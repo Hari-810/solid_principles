{
 "cells": [
  {
   "cell_type": "markdown",
   "metadata": {},
   "source": [
    "# Liskov Substitution Principle (LSP)"
   ]
  },
  {
   "cell_type": "markdown",
   "metadata": {},
   "source": [
    "## Definition"
   ]
  },
  {
   "cell_type": "markdown",
   "metadata": {},
   "source": [
    "Objects of a superclass should be replaceable with objects of a subclass without affecting the correctness of the program."
   ]
  },
  {
   "cell_type": "markdown",
   "metadata": {},
   "source": [
    "This principle ensures that a subclass can stand in for its superclass without causing unexpected behavior. It emphasizes the need for subclasses to adhere to the behavior expected by the superclass, maintaining integrity in the inheritance hierarchy.\n",
    "\n",
    "In other words, if class B is a subclass of class A, then instances of A should be replaceable with instances of B without altering the desirable properties of the program (correctness, task performed, etc.)."
   ]
  },
  {
   "cell_type": "markdown",
   "metadata": {},
   "source": [
    "## Example"
   ]
  },
  {
   "cell_type": "markdown",
   "metadata": {},
   "source": [
    "we have a base class PaymentProcessor and two subclasses CreditCardProcessor and BitcoinProcessor. The PaymentProcessor class has a method process_payment that each subclass should implement."
   ]
  },
  {
   "cell_type": "code",
   "execution_count": null,
   "metadata": {},
   "outputs": [],
   "source": [
    "\n",
    "class PaymentProcessor:\n",
    "    def process_payment(self, amount):\n",
    "        raise NotImplementedError(\"Subclasses should implement this!\")\n",
    "\n",
    "class CreditCardProcessor(PaymentProcessor):\n",
    "    def process_payment(self, amount):\n",
    "        return f\"Processing credit card payment of ${amount}\"\n",
    "\n",
    "class BitcoinProcessor(PaymentProcessor):\n",
    "    def process_payment(self, amount):\n",
    "        raise Exception(\"Bitcoin payment processing is not supported\")\n",
    "\n",
    "def handle_payment(processor: PaymentProcessor, amount):\n",
    "    return processor.process_payment(amount)\n",
    "\n",
    "# Create payment processors\n",
    "credit_card_processor = CreditCardProcessor()\n",
    "bitcoin_processor = BitcoinProcessor()\n",
    "\n",
    "# Handle payments\n",
    "print(handle_payment(credit_card_processor, 100))  # Output: Processing credit card payment of $100\n",
    "print(handle_payment(bitcoin_processor, 100))  # Raises Exception: Bitcoin payment processing is not supported\n",
    "\n",
    "\n"
   ]
  },
  {
   "cell_type": "markdown",
   "metadata": {},
   "source": [
    "Issues:\n",
    "\n",
    "1. Semantic Misrepresentation: The BitcoinProcessor subclass inherits from PaymentProcessor but cannot actually process Bitcoin payments. This creates a semantic mismatch where a subclass is expected to behave like its superclass (PaymentProcessor) but cannot fulfill that contract.\n",
    "\n",
    "2. Runtime Errors: When a BitcoinProcessor instance is passed to a function expecting a PaymentProcessor, such as handle_payment, it throws an exception (Exception: Bitcoin payment processing is not supported). This breaks the program flow and can lead to unexpected behavior.\n",
    "\n",
    "3. Violation of Client Expectations: Clients using the PaymentProcessor superclass expect that any subclass (CreditCardProcessor, BitcoinProcessor, etc.) can be used interchangeably. However, BitcoinProcessor fails this expectation by throwing an exception instead of processing payments like other subclasses.\n",
    "\n",
    "4. Maintenance Challenges: Future modifications to add more payment processors might lead to similar issues if subclasses do not adhere to the expected behavior defined in the superclass (PaymentProcessor).\n",
    "\n",
    "Consequences:\n",
    "\n",
    "1. Code Fragility: The code becomes fragile because client code (handle_payment function or any code expecting a PaymentProcessor) cannot reliably substitute any subclass without potential runtime errors.\n",
    "\n",
    "2. Reduced Flexibility: Introducing new payment processors (e.g., EthereumProcessor, BankTransferProcessor) that may behave differently could further complicate the system and potentially break existing client code.\n",
    "\n",
    "3. Difficulty in Testing and Debugging: Testing becomes challenging because the behavior of subclasses (BitcoinProcessor) deviates from the expected behavior defined by the superclass (PaymentProcessor), leading to inconsistencies and hard-to-predict outcomes.\n",
    "\n"
   ]
  },
  {
   "cell_type": "markdown",
   "metadata": {},
   "source": [
    "## Solution"
   ]
  },
  {
   "cell_type": "markdown",
   "metadata": {},
   "source": [
    "To adhere to Liskov Substitution Principle (LSP), we should redesign the system to ensure that all subclasses (CreditCardProcessor, BitcoinProcessor, etc.) of PaymentProcessor can substitute the superclass without altering the expected behavior. This can be achieved by ensuring that:\n",
    "\n",
    "1. Each subclass (CreditCardProcessor, BitcoinProcessor, etc.) properly implements the process_payment method according to its specific logic.\n",
    "2. Client code (handle_payment function, etc.) should be able to rely on the fact that any subclass of PaymentProcessor can be used interchangeably without causing errors or unexpected behaviors."
   ]
  },
  {
   "cell_type": "code",
   "execution_count": null,
   "metadata": {},
   "outputs": [],
   "source": [
    "class PaymentProcessor:\n",
    "    def process_payment(self, amount):\n",
    "        raise NotImplementedError(\"Subclasses should implement this!\")\n",
    "\n",
    "class CreditCardProcessor(PaymentProcessor):\n",
    "    def process_payment(self, amount):\n",
    "        return f\"Processing credit card payment of ${amount}\"\n",
    "\n",
    "class BitcoinProcessor(PaymentProcessor):\n",
    "    def process_payment(self, amount):\n",
    "        return f\"Processing Bitcoin payment of ${amount}\"\n",
    "\n",
    "class UnsupportedPaymentProcessor(PaymentProcessor):\n",
    "    def process_payment(self, amount):\n",
    "        raise Exception(\"This payment method is not supported\")\n"
   ]
  },
  {
   "cell_type": "markdown",
   "metadata": {},
   "source": [
    "1. CreditCardProcessor and BitcoinProcessor properly implement the process_payment method according to their specific payment processing logic.\n",
    "\n",
    "2. UnsupportedPaymentProcessor explicitly raises an exception, indicating that this payment method is not supported.\n",
    "\n",
    "3. Client code (handle_payment function or any code expecting a PaymentProcessor) can now rely on the fact that any subclass of PaymentProcessor adheres to the expected behavior, thus maintaining the system's consistency and adhering to LSP."
   ]
  },
  {
   "cell_type": "markdown",
   "metadata": {},
   "source": [
    "The violation of Liskov Substitution Principle (LSP) in the initial payment processing example led to semantic mismatches, runtime errors, and a lack of client expectations. By correcting the design to ensure that all subclasses of PaymentProcessor adhere to the expected behavior, we can create a more reliable and maintainable system where subclasses can be substituted without causing unexpected behaviors or errors."
   ]
  },
  {
   "cell_type": "markdown",
   "metadata": {},
   "source": []
  }
 ],
 "metadata": {
  "language_info": {
   "name": "python"
  }
 },
 "nbformat": 4,
 "nbformat_minor": 2
}
