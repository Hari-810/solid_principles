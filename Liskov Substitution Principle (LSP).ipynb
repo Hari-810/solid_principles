{
 "cells": [
  {
   "cell_type": "markdown",
   "metadata": {},
   "source": [
    "# Liskov Substitution Principle (LSP)"
   ]
  },
  {
   "cell_type": "markdown",
   "metadata": {},
   "source": [
    "## Definition"
   ]
  },
  {
   "cell_type": "markdown",
   "metadata": {},
   "source": [
    "Objects of a superclass should be replaceable with objects of a subclass without affecting the correctness of the program."
   ]
  },
  {
   "cell_type": "markdown",
   "metadata": {},
   "source": [
    "This principle ensures that a subclass can stand in for its superclass without causing unexpected behavior. It emphasizes the need for subclasses to adhere to the behavior expected by the superclass, maintaining integrity in the inheritance hierarchy.\n",
    "\n",
    "In other words, if class B is a subclass of class A, then instances of A should be replaceable with instances of B without altering the desirable properties of the program (correctness, task performed, etc.)."
   ]
  },
  {
   "cell_type": "markdown",
   "metadata": {},
   "source": [
    "# Example 01"
   ]
  },
  {
   "cell_type": "markdown",
   "metadata": {},
   "source": [
    "we have a base class PaymentProcessor and two subclasses CreditCardProcessor and BitcoinProcessor. The PaymentProcessor class has a method process_payment that each subclass should implement."
   ]
  },
  {
   "cell_type": "code",
   "execution_count": null,
   "metadata": {},
   "outputs": [],
   "source": [
    "\n",
    "class PaymentProcessor:\n",
    "    def process_payment(self, amount):\n",
    "        raise NotImplementedError(\"Subclasses should implement this!\")\n",
    "\n",
    "class CreditCardProcessor(PaymentProcessor):\n",
    "    def process_payment(self, amount):\n",
    "        return f\"Processing credit card payment of ${amount}\"\n",
    "\n",
    "class BitcoinProcessor(PaymentProcessor):\n",
    "    def process_payment(self, amount):\n",
    "        raise Exception(\"Bitcoin payment processing is not supported\")\n",
    "\n",
    "def handle_payment(processor: PaymentProcessor, amount):\n",
    "    return processor.process_payment(amount)\n",
    "\n",
    "# Create payment processors\n",
    "credit_card_processor = CreditCardProcessor()\n",
    "bitcoin_processor = BitcoinProcessor()\n",
    "\n",
    "# Handle payments\n",
    "print(handle_payment(credit_card_processor, 100))  # Output: Processing credit card payment of $100\n",
    "print(handle_payment(bitcoin_processor, 100))  # Raises Exception: Bitcoin payment processing is not supported\n",
    "\n",
    "\n"
   ]
  },
  {
   "cell_type": "markdown",
   "metadata": {},
   "source": [
    "Issues:\n",
    "\n",
    "1. Semantic Misrepresentation: The BitcoinProcessor subclass inherits from PaymentProcessor but cannot actually process Bitcoin payments. This creates a semantic mismatch where a subclass is expected to behave like its superclass (PaymentProcessor) but cannot fulfill that contract.\n",
    "\n",
    "2. Runtime Errors: When a BitcoinProcessor instance is passed to a function expecting a PaymentProcessor, such as handle_payment, it throws an exception (Exception: Bitcoin payment processing is not supported). This breaks the program flow and can lead to unexpected behavior.\n",
    "\n",
    "3. Violation of Client Expectations: Clients using the PaymentProcessor superclass expect that any subclass (CreditCardProcessor, BitcoinProcessor, etc.) can be used interchangeably. However, BitcoinProcessor fails this expectation by throwing an exception instead of processing payments like other subclasses.\n",
    "\n",
    "4. Maintenance Challenges: Future modifications to add more payment processors might lead to similar issues if subclasses do not adhere to the expected behavior defined in the superclass (PaymentProcessor).\n",
    "\n",
    "Consequences:\n",
    "\n",
    "1. Code Fragility: The code becomes fragile because client code (handle_payment function or any code expecting a PaymentProcessor) cannot reliably substitute any subclass without potential runtime errors.\n",
    "\n",
    "2. Reduced Flexibility: Introducing new payment processors (e.g., EthereumProcessor, BankTransferProcessor) that may behave differently could further complicate the system and potentially break existing client code.\n",
    "\n",
    "3. Difficulty in Testing and Debugging: Testing becomes challenging because the behavior of subclasses (BitcoinProcessor) deviates from the expected behavior defined by the superclass (PaymentProcessor), leading to inconsistencies and hard-to-predict outcomes.\n",
    "\n"
   ]
  },
  {
   "cell_type": "markdown",
   "metadata": {},
   "source": [
    "## Solution 01"
   ]
  },
  {
   "cell_type": "markdown",
   "metadata": {},
   "source": [
    "To adhere to Liskov Substitution Principle (LSP), we should redesign the system to ensure that all subclasses (CreditCardProcessor, BitcoinProcessor, etc.) of PaymentProcessor can substitute the superclass without altering the expected behavior. This can be achieved by ensuring that:\n",
    "\n",
    "1. Each subclass (CreditCardProcessor, BitcoinProcessor, etc.) properly implements the process_payment method according to its specific logic.\n",
    "2. Client code (handle_payment function, etc.) should be able to rely on the fact that any subclass of PaymentProcessor can be used interchangeably without causing errors or unexpected behaviors."
   ]
  },
  {
   "cell_type": "code",
   "execution_count": null,
   "metadata": {},
   "outputs": [],
   "source": [
    "class PaymentProcessor:\n",
    "    def process_payment(self, amount):\n",
    "        raise NotImplementedError(\"Subclasses should implement this!\")\n",
    "\n",
    "class CreditCardProcessor(PaymentProcessor):\n",
    "    def process_payment(self, amount):\n",
    "        return f\"Processing credit card payment of ${amount}\"\n",
    "\n",
    "class BitcoinProcessor(PaymentProcessor):\n",
    "    def process_payment(self, amount):\n",
    "        return f\"Processing Bitcoin payment of ${amount}\"\n",
    "\n",
    "class UnsupportedPaymentProcessor(PaymentProcessor):\n",
    "    def process_payment(self, amount):\n",
    "        raise Exception(\"This payment method is not supported\")\n"
   ]
  },
  {
   "cell_type": "markdown",
   "metadata": {},
   "source": [
    "1. CreditCardProcessor and BitcoinProcessor properly implement the process_payment method according to their specific payment processing logic.\n",
    "\n",
    "2. UnsupportedPaymentProcessor explicitly raises an exception, indicating that this payment method is not supported.\n",
    "\n",
    "3. Client code (handle_payment function or any code expecting a PaymentProcessor) can now rely on the fact that any subclass of PaymentProcessor adheres to the expected behavior, thus maintaining the system's consistency and adhering to LSP."
   ]
  },
  {
   "cell_type": "markdown",
   "metadata": {},
   "source": [
    "The violation of Liskov Substitution Principle (LSP) in the initial payment processing example led to semantic mismatches, runtime errors, and a lack of client expectations. By correcting the design to ensure that all subclasses of PaymentProcessor adhere to the expected behavior, we can create a more reliable and maintainable system where subclasses can be substituted without causing unexpected behaviors or errors."
   ]
  },
  {
   "cell_type": "markdown",
   "metadata": {},
   "source": []
  },
  {
   "cell_type": "markdown",
   "metadata": {},
   "source": [
    "# Example 02"
   ]
  },
  {
   "cell_type": "markdown",
   "metadata": {},
   "source": [
    "### Without Adhering to LSP"
   ]
  },
  {
   "cell_type": "code",
   "execution_count": null,
   "metadata": {},
   "outputs": [],
   "source": [
    "class Rectangle:\n",
    "    def __init__(self, width, height):\n",
    "        self.width = width\n",
    "        self.height = height\n",
    "\n",
    "    def set_width(self, width):\n",
    "        self.width = width\n",
    "\n",
    "    def set_height(self, height):\n",
    "        self.height = height\n",
    "\n",
    "    def get_area(self):\n",
    "        return self.width * self.height\n",
    "\n",
    "class Square(Rectangle):\n",
    "    def __init__(self, side):\n",
    "        super().__init__(side, side)\n",
    "\n",
    "    def set_width(self, width):\n",
    "        self.width = width\n",
    "        self.height = width\n",
    "\n",
    "    def set_height(self, height):\n",
    "        self.width = height\n",
    "        self.height = height\n"
   ]
  },
  {
   "cell_type": "markdown",
   "metadata": {},
   "source": [
    "In this design, Square inherits from Rectangle. However, it violates the LSP because a Square cannot behave like a Rectangle in all cases. For instance, setting the width of a Square changes both its width and height, which is not the expected behavior for a Rectangle."
   ]
  },
  {
   "cell_type": "markdown",
   "metadata": {},
   "source": [
    "### Adhering to LSP"
   ]
  },
  {
   "cell_type": "markdown",
   "metadata": {},
   "source": [
    "To adhere to LSP, we can refactor the code so that the Square and Rectangle classes are siblings rather than inheriting one from the other."
   ]
  },
  {
   "cell_type": "code",
   "execution_count": null,
   "metadata": {},
   "outputs": [],
   "source": [
    "from abc import ABC, abstractmethod\n",
    "\n",
    "class Shape(ABC):\n",
    "    @abstractmethod\n",
    "    def get_area(self):\n",
    "        pass\n",
    "\n",
    "class Rectangle(Shape):\n",
    "    def __init__(self, width, height):\n",
    "        self.width = width\n",
    "        self.height = height\n",
    "\n",
    "    def set_width(self, width):\n",
    "        self.width = width\n",
    "\n",
    "    def set_height(self, height):\n",
    "        self.height = height\n",
    "\n",
    "    def get_area(self):\n",
    "        return self.width * self.height\n",
    "\n",
    "class Square(Shape):\n",
    "    def __init__(self, side):\n",
    "        self.side = side\n",
    "\n",
    "    def set_side(self, side):\n",
    "        self.side = side\n",
    "\n",
    "    def get_area(self):\n",
    "        return self.side * self.side\n",
    "\n",
    "\n",
    "def print_area(shape):\n",
    "    print(f\"The area is: {shape.get_area()}\")\n",
    "\n",
    "rectangle = Rectangle(5, 10)\n",
    "square = Square(5)\n",
    "\n",
    "print_area(rectangle)  # The area is: 50\n",
    "print_area(square)     # The area is: 25"
   ]
  },
  {
   "cell_type": "markdown",
   "metadata": {},
   "source": [
    "In this design, Rectangle and Square both inherit from the Shape abstract base class, but they do not inherit from each other. This way, each class can maintain its own behavior without violating the LSP.\n",
    "\n"
   ]
  },
  {
   "cell_type": "markdown",
   "metadata": {},
   "source": [
    "# Example 03"
   ]
  },
  {
   "cell_type": "markdown",
   "metadata": {},
   "source": [
    "consider a system for managing various types of bank accounts. We have a base class BankAccount and two derived classes: SavingsAccount and CurrentAccount.\n",
    "\n"
   ]
  },
  {
   "cell_type": "markdown",
   "metadata": {},
   "source": [
    "### Without Adhering to LSP"
   ]
  },
  {
   "cell_type": "code",
   "execution_count": null,
   "metadata": {},
   "outputs": [],
   "source": [
    "class BankAccount:\n",
    "    def __init__(self, balance):\n",
    "        self.balance = balance\n",
    "\n",
    "    def deposit(self, amount):\n",
    "        self.balance += amount\n",
    "\n",
    "    def withdraw(self, amount):\n",
    "        if amount > self.balance:\n",
    "            raise ValueError(\"Insufficient funds\")\n",
    "        self.balance -= amount\n",
    "\n",
    "class SavingsAccount(BankAccount):\n",
    "    def withdraw(self, amount):\n",
    "        if amount > self.balance:\n",
    "            raise ValueError(\"Insufficient funds\")\n",
    "        self.balance -= amount\n",
    "\n",
    "class CurrentAccount(BankAccount):\n",
    "    def withdraw(self, amount):\n",
    "        self.balance -= amount\n"
   ]
  },
  {
   "cell_type": "markdown",
   "metadata": {},
   "source": [
    "In this design, SavingsAccount and CurrentAccount both inherit from BankAccount. However, CurrentAccount allows overdraft (withdrawals that can exceed the balance), which violates the LSP. Substituting a BankAccount with a CurrentAccount could lead to unexpected behavior."
   ]
  },
  {
   "cell_type": "markdown",
   "metadata": {},
   "source": [
    "### Adhering to LSP"
   ]
  },
  {
   "cell_type": "code",
   "execution_count": null,
   "metadata": {},
   "outputs": [],
   "source": [
    "from abc import ABC, abstractmethod\n",
    "\n",
    "class BankAccount(ABC):\n",
    "    def __init__(self, balance):\n",
    "        self.balance = balance\n",
    "\n",
    "    def deposit(self, amount):\n",
    "        self.balance += amount\n",
    "\n",
    "    @abstractmethod\n",
    "    def withdraw(self, amount):\n",
    "        pass\n",
    "\n",
    "class SavingsAccount(BankAccount):\n",
    "    def withdraw(self, amount):\n",
    "        if amount > self.balance:\n",
    "            raise ValueError(\"Insufficient funds\")\n",
    "        self.balance -= amount\n",
    "\n",
    "class CurrentAccount(BankAccount):\n",
    "    def withdraw(self, amount):\n",
    "        self.balance -= amount\n",
    "\n",
    "# Using the Classes\n",
    "\n",
    "def process_withdrawal(account, amount):\n",
    "    account.withdraw(amount)\n",
    "    print(f\"Withdrawal successful. New balance: {account.balance}\")\n",
    "\n",
    "savings = SavingsAccount(100)\n",
    "current = CurrentAccount(100)\n",
    "\n",
    "process_withdrawal(savings, 50)  # Withdrawal successful. New balance: 50\n",
    "process_withdrawal(current, 150) # Withdrawal successful. New balance: -50\n"
   ]
  },
  {
   "cell_type": "markdown",
   "metadata": {},
   "source": [
    "The BankAccount class defines an abstract withdraw method, ensuring that all derived classes must implement this method. The SavingsAccount class enforces no overdraft by checking the balance, while the CurrentAccount class allows overdraft. Both classes adhere to the LSP because they conform to the interface defined by BankAccount."
   ]
  },
  {
   "cell_type": "markdown",
   "metadata": {},
   "source": [
    "# Summary\n",
    "By following the Liskov Substitution Principle:\n",
    "\n",
    "We ensure that subclasses can replace their base class without altering the desirable properties of the program.\n",
    "We create a more maintainable and flexible system where classes can be extended without unexpected behavior.\n",
    "We define clear contracts in the base class, which subclasses must adhere to, ensuring consistent behavior across different types."
   ]
  },
  {
   "cell_type": "markdown",
   "metadata": {},
   "source": []
  }
 ],
 "metadata": {
  "language_info": {
   "name": "python"
  }
 },
 "nbformat": 4,
 "nbformat_minor": 2
}
