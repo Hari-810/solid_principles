{
 "cells": [
  {
   "cell_type": "markdown",
   "metadata": {},
   "source": [
    "# Open/Closed Principle (OCP):"
   ]
  },
  {
   "cell_type": "markdown",
   "metadata": {},
   "source": [
    "## Definition"
   ]
  },
  {
   "cell_type": "markdown",
   "metadata": {},
   "source": [
    "Software entities (classes, modules, functions, etc.) should be open for extension but closed for modification."
   ]
  },
  {
   "cell_type": "markdown",
   "metadata": {},
   "source": [
    "The Open/Closed Principle (OCP) is one of the SOLID principles of object-oriented design, stating that software entities (classes, modules, functions, etc.) should be open for extension but closed for modification. This means you should be able to add new functionality to a system without changing the existing code."
   ]
  },
  {
   "cell_type": "markdown",
   "metadata": {},
   "source": [
    "## Example"
   ]
  },
  {
   "cell_type": "code",
   "execution_count": null,
   "metadata": {},
   "outputs": [],
   "source": [
    "class ShapeDrawer:\n",
    "    def draw_shape(self, shape_type: str, **kwargs):\n",
    "        if shape_type == \"circle\":\n",
    "            self.draw_circle(kwargs['radius'])\n",
    "        elif shape_type == \"rectangle\":\n",
    "            self.draw_rectangle(kwargs['width'], kwargs['height'])\n",
    "        elif shape_type == \"triangle\":\n",
    "            self.draw_triangle(kwargs['base'], kwargs['height'])\n",
    "        else:\n",
    "            raise ValueError(\"Unsupported shape type\")\n",
    "\n",
    "    def draw_circle(self, radius: float):\n",
    "        print(f\"Drawing a circle with radius {radius}\")\n",
    "\n",
    "    def draw_rectangle(self, width: float, height: float):\n",
    "        print(f\"Drawing a rectangle with width {width} and height {height}\")\n",
    "\n",
    "    def draw_triangle(self, base: float, height: float):\n",
    "        print(f\"Drawing a triangle with base {base} and height {height}\")\n",
    "\n",
    "    def calculate_area(self, shape_type: str, **kwargs):\n",
    "        if shape_type == \"circle\":\n",
    "            return 3.14 * kwargs['radius'] ** 2\n",
    "        elif shape_type == \"rectangle\":\n",
    "            return kwargs['width'] * kwargs['height']\n",
    "        elif shape_type == \"triangle\":\n",
    "            return 0.5 * kwargs['base'] * kwargs['height']\n",
    "        else:\n",
    "            raise ValueError(\"Unsupported shape type\")\n",
    "\n",
    "# Usage\n",
    "drawer = ShapeDrawer()\n",
    "drawer.draw_shape(\"circle\", radius=5)\n",
    "print(f\"Area: {drawer.calculate_area(\"circle\", radius=5)}\")\n",
    "\n",
    "drawer.draw_shape(\"rectangle\", width=4, height=7)\n",
    "print(f\"Area: {drawer.calculate_area(\"rectangle\", width=4, height=7)}\")\n"
   ]
  },
  {
   "cell_type": "markdown",
   "metadata": {},
   "source": [
    "1. Violation of Single Responsibility Principle: \n",
    "\n",
    "    The ShapeDrawer class handles both drawing shapes and calculating their areas. This violates the Single Responsibility Principle (SRP) because it has more than one reason to change. Each additional shape requires modifications in multiple places within the ShapeDrawer class, increasing the risk of introducing errors.\n",
    "\n",
    "2. Difficult to Extend: Adding new shapes requires modifying the ShapeDrawer class in multiple places. Specifically, you need to:\n",
    "\n",
    "    - Add new elif branches in the draw_shape method.\n",
    "    - Add new elif branches in the calculate_area method.\n",
    "    - This makes the class more complex and harder to maintain.\n",
    "\n",
    "3. Fragile Code\n",
    "    \n",
    "    Every time you add or change a shape, you risk breaking existing functionality. For instance, a typo or logical error in the new elif branches can affect the entire shape drawing and area calculation logic.\n",
    "\n",
    "4. Poor Scalability\n",
    "    \n",
    "    As the number of shapes increases, the ShapeDrawer class will grow disproportionately, leading to a large and unwieldy class that's hard to understand and maintain.\n",
    "\n",
    "5. Testing Challenges\n",
    "    \n",
    "    Testing the ShapeDrawer class becomes more complex as you add more shapes. Each new shape means more test cases and potentially more points of failure within the same class.\n",
    "\n",
    "6. Encapsulation Issue\n",
    "    \n",
    "    The shape-specific drawing and area calculation logic are tightly coupled within the ShapeDrawer class. This violates the principle of encapsulation, where each shape should ideally manage its own behavior.\n",
    "\n",
    "7. Readability and Maintainability\n",
    "    \n",
    "    As the list of shapes grows, the readability and maintainability of the ShapeDrawer class degrade. It's harder to track which shapes are supported and how they are processed.\n",
    "\n",
    "8. Adding a New Shape:\n",
    "\n",
    "To add a new shape (e.g., a pentagon), you would need to modify both the draw_shape and calculate_area methods. \n",
    "For example:\n",
    "\n",
    "\"\"\"\n",
    "\n",
    "        def draw_shape(self, shape_type: str, **kwargs):\n",
    "            # Existing conditions\n",
    "            elif shape_type == \"pentagon\":\n",
    "                self.draw_pentagon(kwargs['side_length'])\n",
    "\n",
    "        def draw_pentagon(self, side_length: float):\n",
    "            print(f\"Drawing a pentagon with side length {side_length}\")\n",
    "\n",
    "        def calculate_area(self, shape_type: str, **kwargs):\n",
    "            # Existing conditions\n",
    "            elif shape_type == \"pentagon\":\n",
    "                return (1/4) * (5**0.5 * (5 + 2*(5**0.5)) * kwargs['side_length']**2)\n",
    "\n",
    "\n",
    "\"\"\""
   ]
  },
  {
   "cell_type": "markdown",
   "metadata": {},
   "source": [
    "## Solution"
   ]
  },
  {
   "cell_type": "markdown",
   "metadata": {},
   "source": [
    "To adhere to the Open/Closed Principle, refactor the code as follows:\n",
    "\n",
    "\n",
    "1. Create an Abstract Shape Class: Define an interface for shape-specific operations.\n",
    "\n",
    "2. Implement Concrete Shape Classes: Each shape implements the interface and handles its own drawing and area calculation.\n",
    "\n",
    "3. Use Composition: The ShapeDrawer class operates on abstract Shape objects, making it open for extension but closed for modification."
   ]
  },
  {
   "cell_type": "markdown",
   "metadata": {},
   "source": [
    "### Refactored Code with OCP"
   ]
  },
  {
   "cell_type": "code",
   "execution_count": null,
   "metadata": {},
   "outputs": [],
   "source": [
    "from abc import ABC, abstractmethod\n",
    "\n",
    "class Shape(ABC):\n",
    "    @abstractmethod\n",
    "    def draw(self):\n",
    "        pass\n",
    "\n",
    "    @abstractmethod\n",
    "    def calculate_area(self) -> float:\n",
    "        pass\n",
    "\n",
    "class Circle(Shape):\n",
    "    def __init__(self, radius: float):\n",
    "        self.radius = radius\n",
    "\n",
    "    def draw(self):\n",
    "        print(f\"Drawing a circle with radius {self.radius}\")\n",
    "\n",
    "    def calculate_area(self) -> float:\n",
    "        return 3.14 * self.radius ** 2\n",
    "\n",
    "class Rectangle(Shape):\n",
    "    def __init__(self, width: float, height: float):\n",
    "        self.width = width\n",
    "        self.height = height\n",
    "\n",
    "    def draw(self):\n",
    "        print(f\"Drawing a rectangle with width {self.width} and height {self.height}\")\n",
    "\n",
    "    def calculate_area(self) -> float:\n",
    "        return self.width * self.height\n",
    "\n",
    "class Triangle(Shape):\n",
    "    def __init__(self, base: float, height: float):\n",
    "        self.base = base\n",
    "        self.height = height\n",
    "\n",
    "    def draw(self):\n",
    "        print(f\"Drawing a triangle with base {self.base} and height {self.height}\")\n",
    "\n",
    "    def calculate_area(self) -> float:\n",
    "        return 0.5 * self.base * self.height\n",
    "\n",
    "class ShapeDrawer:\n",
    "    def draw_shape(self, shape: Shape):\n",
    "        shape.draw()\n",
    "\n",
    "    def calculate_area(self, shape: Shape) -> float:\n",
    "        return shape.calculate_area()\n",
    "\n",
    "# Usage\n",
    "circle = Circle(radius=5)\n",
    "rectangle = Rectangle(width=4, height=7)\n",
    "triangle = Triangle(base=3, height=6)\n",
    "\n",
    "drawer = ShapeDrawer()\n",
    "\n",
    "drawer.draw_shape(circle)\n",
    "print(f\"Area: {drawer.calculate_area(circle)}\")\n",
    "\n",
    "drawer.draw_shape(rectangle)\n",
    "print(f\"Area: {drawer.calculate_area(rectangle)}\")\n",
    "\n",
    "drawer.draw_shape(triangle)\n",
    "print(f\"Area: {drawer.calculate_area(triangle)}\")\n"
   ]
  },
  {
   "cell_type": "markdown",
   "metadata": {},
   "source": [
    "#### Adding a New Shape (e.g., Pentagon)\n"
   ]
  },
  {
   "cell_type": "markdown",
   "metadata": {},
   "source": [
    "\n",
    "To add a new shape, you simply create a new class without modifying any existing code:"
   ]
  },
  {
   "cell_type": "code",
   "execution_count": null,
   "metadata": {},
   "outputs": [],
   "source": [
    "class Pentagon(Shape):\n",
    "    def __init__(self, side_length: float):\n",
    "        self.side_length = side_length\n",
    "\n",
    "    def draw(self):\n",
    "        print(f\"Drawing a pentagon with side length {self.side_length}\")\n",
    "\n",
    "    def calculate_area(self) -> float:\n",
    "        return (1/4) * (5**0.5 * (5 + 2*(5**0.5)) * self.side_length**2)\n",
    "\n",
    "# Usage\n",
    "pentagon = Pentagon(side_length=5)\n",
    "drawer.draw_shape(pentagon)\n",
    "print(f\"Area: {drawer.calculate_area(pentagon)}\")\n"
   ]
  },
  {
   "cell_type": "markdown",
   "metadata": {},
   "source": [
    "#### Explanation of the Refactored Code:\n",
    "\n",
    "The refactored code adheres to the Open/Closed Principle by:\n",
    "   1. Defining an abstract base class Shape with abstract methods draw and calculate_area.\n",
    "\n",
    "   2. Creating concrete shape classes (Circle, Rectangle, Triangle, etc.) that implement the Shape interface.\n",
    "\n",
    "   3. Using a ShapeDrawer class that operates on Shape objects, making it easy to add new shapes without modifying existing code.\n",
    "\n",
    "This design improves extensibility, maintainability, and scalability of the code."
   ]
  }
 ],
 "metadata": {
  "language_info": {
   "name": "python"
  }
 },
 "nbformat": 4,
 "nbformat_minor": 2
}
