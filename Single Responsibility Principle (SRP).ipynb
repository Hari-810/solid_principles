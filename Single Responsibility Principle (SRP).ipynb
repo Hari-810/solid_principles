{
 "cells": [
  {
   "cell_type": "markdown",
   "metadata": {},
   "source": [
    "# Single Responsibility Principle (SRP)"
   ]
  },
  {
   "cell_type": "markdown",
   "metadata": {},
   "source": [
    "### Definition\n",
    "\n",
    "Single Responsibility Principle (SRP): A class should have only one reason to change, meaning it should only have one job or responsibility."
   ]
  },
  {
   "cell_type": "markdown",
   "metadata": {},
   "source": [
    "## Example"
   ]
  },
  {
   "cell_type": "code",
   "execution_count": 1,
   "metadata": {},
   "outputs": [
    {
     "name": "stdout",
     "output_type": "stream",
     "text": [
      "Monthly Salary for John Doe: $3200\n",
      "Monthly Hours Report for John Doe: 160 hours\n",
      "Saving modifications for employee 1\n"
     ]
    }
   ],
   "source": [
    "class Employee:\n",
    "    def __init__(self, employee_id, name):\n",
    "        self._id = employee_id\n",
    "        self._name = name\n",
    "\n",
    "    @property\n",
    "    def id(self):\n",
    "        return self._id\n",
    "\n",
    "    @property\n",
    "    def name(self):\n",
    "        return self._name\n",
    "\n",
    "    def calculate_monthly_salary(self):\n",
    "        # Example calculation logic\n",
    "        hours_report = self.produce_monthly_hours_report()\n",
    "        return hours_report * 20  # Suppose $20 per hour\n",
    "\n",
    "    def produce_monthly_hours_report(self):\n",
    "        # Example logic to produce hours report\n",
    "        # This should retrieve and calculate the total hours worked in a month\n",
    "        return 160  # Example: 160 hours worked in a month\n",
    "\n",
    "    def save_modifications(self):\n",
    "        # Example logic to save changes to the employee object\n",
    "        print(f\"Saving modifications for employee {self.id}\")\n",
    "\n",
    "# Example usage\n",
    "employee = Employee(1, \"John Doe\")\n",
    "\n",
    "# Calculating salary\n",
    "salary = employee.calculate_monthly_salary()\n",
    "print(f\"Monthly Salary for {employee.name}: ${salary}\")\n",
    "\n",
    "# Producing hours report\n",
    "hours_report = employee.produce_monthly_hours_report()\n",
    "print(f\"Monthly Hours Report for {employee.name}: {hours_report} hours\")\n",
    "\n",
    "# Saving modifications\n",
    "employee.save_modifications()\n"
   ]
  },
  {
   "cell_type": "markdown",
   "metadata": {},
   "source": [
    "### Explanation of the Original Code:\n"
   ]
  },
  {
   "cell_type": "markdown",
   "metadata": {},
   "source": [
    "\n",
    "Employee Class:\n",
    "\n",
    "1. The constructor initializes the employee's ID and name. \n",
    "2. Provides read-only access to the employee's ID and name through properties.\n",
    "3. Contains methods to calculate the monthly salary, produce the monthly hours report, and save modifications."
   ]
  },
  {
   "cell_type": "markdown",
   "metadata": {},
   "source": [
    "### Problems"
   ]
  },
  {
   "cell_type": "markdown",
   "metadata": {},
   "source": [
    "1. Multiple Responsibilities:\n",
    "\n",
    "    The Employee class is responsible for multiple tasks: salary calculation, hours reporting, and data persistence.\n",
    "Changes in one responsibility (e.g., salary calculation) can unintentionally affect other responsibilities (e.g., hours reporting).\n",
    "Maintenance Issues:\n",
    "\n",
    "2. Adding new features or modifying existing ones becomes difficult as the class grows, increasing the likelihood of introducing bugs.\n",
    "\n",
    "3. Violation of SRP:\n",
    "\n",
    "    Different departments (Finance, HR, R&D) might request changes affecting the same class, leading to frequent changes and potential conflicts."
   ]
  },
  {
   "cell_type": "markdown",
   "metadata": {},
   "source": [
    "## Solution\n"
   ]
  },
  {
   "cell_type": "markdown",
   "metadata": {},
   "source": [
    "The initial Employee class with multiple methods (calculate_monthly_salary, produce_monthly_hours_report, save_modifications) violated SRP because different departments (Finance, HR, R&D) could request changes affecting these methods, leading to excessive coupling and potential bugs.\n",
    "\n",
    "\n",
    "To resolve this, the responsibilities were separated into individual classes:\n",
    "\n",
    "\n",
    "- Employee: a simple data structure.\n",
    "- PaymentService: handles salary calculations.\n",
    "- WorkHoursService: handles work hours report.\n",
    "- EmployeeDAO: handles data access and persistence.\n",
    "\n",
    "By doing this, each class has a single responsibility, reducing the likelihood of unintentional side effects when changes are made.\n"
   ]
  },
  {
   "cell_type": "markdown",
   "metadata": {},
   "source": [
    "### Code Architecture in Python:"
   ]
  },
  {
   "cell_type": "markdown",
   "metadata": {},
   "source": [
    "refactored code"
   ]
  },
  {
   "cell_type": "code",
   "execution_count": 2,
   "metadata": {},
   "outputs": [
    {
     "name": "stdout",
     "output_type": "stream",
     "text": [
      "Monthly Salary for John Doe: $3200\n",
      "Monthly Hours Report for John Doe: 160 hours\n",
      "Saving modifications for employee 1\n"
     ]
    }
   ],
   "source": [
    "class Employee:\n",
    "    def __init__(self, employee_id, name):\n",
    "        self._id = employee_id\n",
    "        self._name = name\n",
    "\n",
    "    @property\n",
    "    def id(self):\n",
    "        return self._id\n",
    "\n",
    "    @property\n",
    "    def name(self):\n",
    "        return self._name\n",
    "\n",
    "class PaymentService:\n",
    "    def __init__(self, work_hours_service):\n",
    "        self.work_hours_service = work_hours_service\n",
    "\n",
    "    def calculate_monthly_salary(self, employee):\n",
    "        # Example calculation logic\n",
    "        hours_report = self.work_hours_service.produce_monthly_hours_report(employee)\n",
    "        return hours_report * 20  # Suppose $20 per hour\n",
    "\n",
    "class WorkHoursService:\n",
    "    def produce_monthly_hours_report(self, employee):\n",
    "        # Example logic to produce hours report\n",
    "        # This should retrieve and calculate the total hours worked in a month\n",
    "        return 160  # Example: 160 hours worked in a month\n",
    "\n",
    "class EmployeeDAO:\n",
    "    def save_modifications(self, employee):\n",
    "        # Example logic to save changes to the employee object\n",
    "        print(f\"Saving modifications for employee {employee.id}\")\n",
    "\n",
    "# Example usage\n",
    "employee = Employee(1, \"John Doe\")\n",
    "\n",
    "work_hours_service = WorkHoursService()\n",
    "payment_service = PaymentService(work_hours_service)\n",
    "employee_dao = EmployeeDAO()\n",
    "\n",
    "# Calculating salary\n",
    "salary = payment_service.calculate_monthly_salary(employee)\n",
    "print(f\"Monthly Salary for {employee.name}: ${salary}\")\n",
    "\n",
    "# Producing hours report\n",
    "hours_report = work_hours_service.produce_monthly_hours_report(employee)\n",
    "print(f\"Monthly Hours Report for {employee.name}: {hours_report} hours\")\n",
    "\n",
    "# Saving modifications\n",
    "employee_dao.save_modifications(employee)\n"
   ]
  },
  {
   "cell_type": "markdown",
   "metadata": {},
   "source": [
    "#### Explanation of the Refactored Code:"
   ]
  },
  {
   "cell_type": "markdown",
   "metadata": {},
   "source": [
    "- Employee Class:\n",
    "\n",
    "      1. Contains employee data with a constructor to initialize the employee's ID and name.\n",
    "      2.  Provides read-only access to the employee's ID and name through properties.\n",
    "\n",
    "- PaymentService Class:\n",
    "\n",
    "      1.   Handles the calculation of the monthly salary.\n",
    "      2.    Depends on WorkHoursService to produce the monthly hours report needed for salary calculation.\n",
    "\n",
    "\n",
    "- EmployeeDAO Class:\n",
    "\n",
    "      1.      Handles the saving of modifications made to an employee's data.\n",
    "      2.      Encapsulates the logic related to data access and persistence.\n",
    "\n",
    "- WorkHoursService Class:\n",
    "\n",
    "      1.      Produces the monthly hours report for an employee.\n",
    "      2.      This method encapsulates the logic to retrieve and calculate the total hours worked by an employee in a month.\n",
    "\n",
    "This architecture ensures each class has a single responsibility, making the system more modular, maintainable, and less prone to bugs from changes.\n",
    "\n",
    "\n",
    "\n",
    "\n"
   ]
  }
 ],
 "metadata": {
  "kernelspec": {
   "display_name": "Python 3",
   "language": "python",
   "name": "python3"
  },
  "language_info": {
   "codemirror_mode": {
    "name": "ipython",
    "version": 3
   },
   "file_extension": ".py",
   "mimetype": "text/x-python",
   "name": "python",
   "nbconvert_exporter": "python",
   "pygments_lexer": "ipython3",
   "version": "3.12.2"
  }
 },
 "nbformat": 4,
 "nbformat_minor": 2
}
